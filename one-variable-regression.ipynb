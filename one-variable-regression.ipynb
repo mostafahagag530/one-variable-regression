{
 "cells": [
  {
   "cell_type": "markdown",
   "id": "9956f695",
   "metadata": {},
   "source": [
    "# import libs \n"
   ]
  },
  {
   "cell_type": "code",
   "execution_count": 143,
   "id": "4edf3488",
   "metadata": {},
   "outputs": [],
   "source": [
    "import numpy as np\n",
    "import pandas as pd \n",
    "import  matplotlib.pyplot as plt"
   ]
  },
  {
   "cell_type": "markdown",
   "id": "541e8cd9",
   "metadata": {},
   "source": [
    "# read csv file from  path and nameing columns "
   ]
  },
  {
   "cell_type": "code",
   "execution_count": 144,
   "id": "9b3dba9c",
   "metadata": {},
   "outputs": [
    {
     "data": {
      "text/html": [
       "<div>\n",
       "<style scoped>\n",
       "    .dataframe tbody tr th:only-of-type {\n",
       "        vertical-align: middle;\n",
       "    }\n",
       "\n",
       "    .dataframe tbody tr th {\n",
       "        vertical-align: top;\n",
       "    }\n",
       "\n",
       "    .dataframe thead th {\n",
       "        text-align: right;\n",
       "    }\n",
       "</style>\n",
       "<table border=\"1\" class=\"dataframe\">\n",
       "  <thead>\n",
       "    <tr style=\"text-align: right;\">\n",
       "      <th></th>\n",
       "      <th>population</th>\n",
       "      <th>profit</th>\n",
       "    </tr>\n",
       "  </thead>\n",
       "  <tbody>\n",
       "    <tr>\n",
       "      <th>0</th>\n",
       "      <td>6.1101</td>\n",
       "      <td>17.5920</td>\n",
       "    </tr>\n",
       "    <tr>\n",
       "      <th>1</th>\n",
       "      <td>5.5277</td>\n",
       "      <td>9.1302</td>\n",
       "    </tr>\n",
       "    <tr>\n",
       "      <th>2</th>\n",
       "      <td>8.5186</td>\n",
       "      <td>13.6620</td>\n",
       "    </tr>\n",
       "    <tr>\n",
       "      <th>3</th>\n",
       "      <td>7.0032</td>\n",
       "      <td>11.8540</td>\n",
       "    </tr>\n",
       "    <tr>\n",
       "      <th>4</th>\n",
       "      <td>5.8598</td>\n",
       "      <td>6.8233</td>\n",
       "    </tr>\n",
       "    <tr>\n",
       "      <th>5</th>\n",
       "      <td>8.3829</td>\n",
       "      <td>11.8860</td>\n",
       "    </tr>\n",
       "    <tr>\n",
       "      <th>6</th>\n",
       "      <td>7.4764</td>\n",
       "      <td>4.3483</td>\n",
       "    </tr>\n",
       "    <tr>\n",
       "      <th>7</th>\n",
       "      <td>8.5781</td>\n",
       "      <td>12.0000</td>\n",
       "    </tr>\n",
       "    <tr>\n",
       "      <th>8</th>\n",
       "      <td>6.4862</td>\n",
       "      <td>6.5987</td>\n",
       "    </tr>\n",
       "    <tr>\n",
       "      <th>9</th>\n",
       "      <td>5.0546</td>\n",
       "      <td>3.8166</td>\n",
       "    </tr>\n",
       "  </tbody>\n",
       "</table>\n",
       "</div>"
      ],
      "text/plain": [
       "   population   profit\n",
       "0      6.1101  17.5920\n",
       "1      5.5277   9.1302\n",
       "2      8.5186  13.6620\n",
       "3      7.0032  11.8540\n",
       "4      5.8598   6.8233\n",
       "5      8.3829  11.8860\n",
       "6      7.4764   4.3483\n",
       "7      8.5781  12.0000\n",
       "8      6.4862   6.5987\n",
       "9      5.0546   3.8166"
      ]
     },
     "execution_count": 144,
     "metadata": {},
     "output_type": "execute_result"
    }
   ],
   "source": [
    "# r  if for sikp escape sequences  like \\n \\t in path  \n",
    "path=r\"ML.csv\"\n",
    "data=pd.read_csv(path,header=None,names=[\"population\",\"profit\"])\n",
    "#print head to see our data \n",
    "data.head(10)\n"
   ]
  },
  {
   "cell_type": "code",
   "execution_count": 145,
   "id": "ea9c26fe",
   "metadata": {},
   "outputs": [
    {
     "data": {
      "text/html": [
       "<div>\n",
       "<style scoped>\n",
       "    .dataframe tbody tr th:only-of-type {\n",
       "        vertical-align: middle;\n",
       "    }\n",
       "\n",
       "    .dataframe tbody tr th {\n",
       "        vertical-align: top;\n",
       "    }\n",
       "\n",
       "    .dataframe thead th {\n",
       "        text-align: right;\n",
       "    }\n",
       "</style>\n",
       "<table border=\"1\" class=\"dataframe\">\n",
       "  <thead>\n",
       "    <tr style=\"text-align: right;\">\n",
       "      <th></th>\n",
       "      <th>population</th>\n",
       "      <th>profit</th>\n",
       "    </tr>\n",
       "  </thead>\n",
       "  <tbody>\n",
       "    <tr>\n",
       "      <th>count</th>\n",
       "      <td>97.000000</td>\n",
       "      <td>97.000000</td>\n",
       "    </tr>\n",
       "    <tr>\n",
       "      <th>mean</th>\n",
       "      <td>8.159800</td>\n",
       "      <td>5.839135</td>\n",
       "    </tr>\n",
       "    <tr>\n",
       "      <th>std</th>\n",
       "      <td>3.869884</td>\n",
       "      <td>5.510262</td>\n",
       "    </tr>\n",
       "    <tr>\n",
       "      <th>min</th>\n",
       "      <td>5.026900</td>\n",
       "      <td>-2.680700</td>\n",
       "    </tr>\n",
       "    <tr>\n",
       "      <th>25%</th>\n",
       "      <td>5.707700</td>\n",
       "      <td>1.986900</td>\n",
       "    </tr>\n",
       "    <tr>\n",
       "      <th>50%</th>\n",
       "      <td>6.589400</td>\n",
       "      <td>4.562300</td>\n",
       "    </tr>\n",
       "    <tr>\n",
       "      <th>75%</th>\n",
       "      <td>8.578100</td>\n",
       "      <td>7.046700</td>\n",
       "    </tr>\n",
       "    <tr>\n",
       "      <th>max</th>\n",
       "      <td>22.203000</td>\n",
       "      <td>24.147000</td>\n",
       "    </tr>\n",
       "  </tbody>\n",
       "</table>\n",
       "</div>"
      ],
      "text/plain": [
       "       population     profit\n",
       "count   97.000000  97.000000\n",
       "mean     8.159800   5.839135\n",
       "std      3.869884   5.510262\n",
       "min      5.026900  -2.680700\n",
       "25%      5.707700   1.986900\n",
       "50%      6.589400   4.562300\n",
       "75%      8.578100   7.046700\n",
       "max     22.203000  24.147000"
      ]
     },
     "execution_count": 145,
     "metadata": {},
     "output_type": "execute_result"
    }
   ],
   "source": [
    "#here we make describe all summary stat in data\n",
    "data.describe()"
   ]
  },
  {
   "cell_type": "code",
   "execution_count": 146,
   "id": "53c6f52c",
   "metadata": {},
   "outputs": [
    {
     "data": {
      "text/plain": [
       "<AxesSubplot:xlabel='population', ylabel='profit'>"
      ]
     },
     "execution_count": 146,
     "metadata": {},
     "output_type": "execute_result"
    },
    {
     "data": {
      "image/png": "[encoded data removed]",
      "text/plain": [
       "<Figure size 360x360 with 1 Axes>"
      ]
     },
     "metadata": {
      "needs_background": "light"
     },
     "output_type": "display_data"
    }
   ],
   "source": [
    "#plot by pandas \n",
    "data.plot(kind=\"scatter\",x=\"population\",y=\"profit\",figsize =(5,5))\n"
   ]
  },
  {
   "cell_type": "code",
   "execution_count": 147,
   "id": "297f43ef",
   "metadata": {
    "scrolled": true
   },
   "outputs": [
    {
     "data": {
      "text/plain": [
       "<matplotlib.collections.PathCollection at 0x1f5315d22f0>"
      ]
     },
     "execution_count": 147,
     "metadata": {},
     "output_type": "execute_result"
    },
    {
     "data": {
      "image/png": "[encoded data removed]",
      "text/plain": [
       "<Figure size 360x360 with 1 Axes>"
      ]
     },
     "metadata": {
      "needs_background": "light"
     },
     "output_type": "display_data"
    }
   ],
   "source": [
    "#anther way to plot \n",
    "# plotting with matplotlib \n",
    "plt.figure(figsize=(5,5))\n",
    "plt.xlabel('population',color=\"r\")\n",
    "plt.ylabel('profit',color=\"r\")\n",
    "plt.title('population / profit plot',color=\"r\")\n",
    "plt.scatter(data[\"population\"],data[\"profit\"])\n"
   ]
  },
  {
   "cell_type": "raw",
   "id": "1ad0b1f8",
   "metadata": {},
   "source": [
    "#here we add ones columns  in data becouse we need to mulitply  x * theta and theta is 1*2 and shoud columns in x 1*2 like it and make transpose \n"
   ]
  },
  {
   "cell_type": "code",
   "execution_count": 148,
   "id": "d184dee8",
   "metadata": {},
   "outputs": [],
   "source": [
    "data.insert(0,\"ones\",1)"
   ]
  },
  {
   "cell_type": "code",
   "execution_count": 149,
   "id": "a36fd311",
   "metadata": {
    "scrolled": true
   },
   "outputs": [
    {
     "data": {
      "text/html": [
       "<div>\n",
       "<style scoped>\n",
       "    .dataframe tbody tr th:only-of-type {\n",
       "        vertical-align: middle;\n",
       "    }\n",
       "\n",
       "    .dataframe tbody tr th {\n",
       "        vertical-align: top;\n",
       "    }\n",
       "\n",
       "    .dataframe thead th {\n",
       "        text-align: right;\n",
       "    }\n",
       "</style>\n",
       "<table border=\"1\" class=\"dataframe\">\n",
       "  <thead>\n",
       "    <tr style=\"text-align: right;\">\n",
       "      <th></th>\n",
       "      <th>ones</th>\n",
       "      <th>population</th>\n",
       "      <th>profit</th>\n",
       "    </tr>\n",
       "  </thead>\n",
       "  <tbody>\n",
       "    <tr>\n",
       "      <th>0</th>\n",
       "      <td>1</td>\n",
       "      <td>6.1101</td>\n",
       "      <td>17.5920</td>\n",
       "    </tr>\n",
       "    <tr>\n",
       "      <th>1</th>\n",
       "      <td>1</td>\n",
       "      <td>5.5277</td>\n",
       "      <td>9.1302</td>\n",
       "    </tr>\n",
       "    <tr>\n",
       "      <th>2</th>\n",
       "      <td>1</td>\n",
       "      <td>8.5186</td>\n",
       "      <td>13.6620</td>\n",
       "    </tr>\n",
       "    <tr>\n",
       "      <th>3</th>\n",
       "      <td>1</td>\n",
       "      <td>7.0032</td>\n",
       "      <td>11.8540</td>\n",
       "    </tr>\n",
       "    <tr>\n",
       "      <th>4</th>\n",
       "      <td>1</td>\n",
       "      <td>5.8598</td>\n",
       "      <td>6.8233</td>\n",
       "    </tr>\n",
       "    <tr>\n",
       "      <th>5</th>\n",
       "      <td>1</td>\n",
       "      <td>8.3829</td>\n",
       "      <td>11.8860</td>\n",
       "    </tr>\n",
       "    <tr>\n",
       "      <th>6</th>\n",
       "      <td>1</td>\n",
       "      <td>7.4764</td>\n",
       "      <td>4.3483</td>\n",
       "    </tr>\n",
       "    <tr>\n",
       "      <th>7</th>\n",
       "      <td>1</td>\n",
       "      <td>8.5781</td>\n",
       "      <td>12.0000</td>\n",
       "    </tr>\n",
       "    <tr>\n",
       "      <th>8</th>\n",
       "      <td>1</td>\n",
       "      <td>6.4862</td>\n",
       "      <td>6.5987</td>\n",
       "    </tr>\n",
       "    <tr>\n",
       "      <th>9</th>\n",
       "      <td>1</td>\n",
       "      <td>5.0546</td>\n",
       "      <td>3.8166</td>\n",
       "    </tr>\n",
       "  </tbody>\n",
       "</table>\n",
       "</div>"
      ],
      "text/plain": [
       "   ones  population   profit\n",
       "0     1      6.1101  17.5920\n",
       "1     1      5.5277   9.1302\n",
       "2     1      8.5186  13.6620\n",
       "3     1      7.0032  11.8540\n",
       "4     1      5.8598   6.8233\n",
       "5     1      8.3829  11.8860\n",
       "6     1      7.4764   4.3483\n",
       "7     1      8.5781  12.0000\n",
       "8     1      6.4862   6.5987\n",
       "9     1      5.0546   3.8166"
      ]
     },
     "execution_count": 149,
     "metadata": {},
     "output_type": "execute_result"
    }
   ],
   "source": [
    "data.head(10)"
   ]
  },
  {
   "cell_type": "markdown",
   "id": "806178a7",
   "metadata": {},
   "source": [
    "# sperate  training   data ( ones and x ) from y out put value"
   ]
  },
  {
   "cell_type": "code",
   "execution_count": 150,
   "id": "dfa2e582",
   "metadata": {},
   "outputs": [],
   "source": [
    "cols=data.shape[1] #shape is 97 *3 we here control in 3 columns cols = 3 if u print it \n",
    "\n",
    "x= data.iloc[:,0:cols-1] # here we get all row and first 2 columns \n",
    "y= data.iloc[:,cols-1:cols]# here we gat all row and third column\n"
   ]
  },
  {
   "cell_type": "code",
   "execution_count": 151,
   "id": "df6c2129",
   "metadata": {},
   "outputs": [
    {
     "name": "stdout",
     "output_type": "stream",
     "text": [
      "(1, 2) (97, 2) (97, 1)\n"
     ]
    }
   ],
   "source": [
    "#here we convert dataframe to control it \n",
    "x=np.matrix(x.values)\n",
    "y=np.matrix(y.values)\n",
    "# print(x,y)\n",
    "#make theta defualt value  theta0  an theta1 (0,0)\n",
    "theta=np.array([[0,0]])\n",
    "print(theta.shape,x.shape,y.shape)"
   ]
  },
  {
   "cell_type": "markdown",
   "id": "23aa7c02",
   "metadata": {},
   "source": [
    "# cost function h(x)=theta0+theta1*x                                                                           j(O,O)=(1/2m)({h(x)-y)^2}"
   ]
  },
  {
   "cell_type": "code",
   "execution_count": 152,
   "id": "393d5f87",
   "metadata": {},
   "outputs": [],
   "source": [
    "#as weknow we add 1 colum to get 0+0x for all row  h(x) now we make tanspose to theta to multiply it to x array and get h(x) for all row \n",
    "def computcost(x,y,theta):\n",
    "    h=(x*theta.T) #for all row h(x) pridicted value \n",
    "    z=np.power(h-y,2)# here we makr part of cost function its h(x)- actual value and get power of all value \n",
    "    return np.sum(z)/(2*len(x)) # and here we get summation and divided it in number of row as cost function \n",
    "    \n",
    "    "
   ]
  },
  {
   "cell_type": "code",
   "execution_count": 153,
   "id": "40bf431e",
   "metadata": {},
   "outputs": [
    {
     "data": {
      "text/plain": [
       "32.072733877455676"
      ]
     },
     "execution_count": 153,
     "metadata": {},
     "output_type": "execute_result"
    }
   ],
   "source": [
    "computcost(x,y,theta)"
   ]
  },
  {
   "cell_type": "code",
   "execution_count": 154,
   "id": "8311b89a",
   "metadata": {},
   "outputs": [],
   "source": [
    "#gradient descent \n",
    "def gradient_bescent(x,y,theta,itry,alpha):\n",
    "       #here we get new theta after n of try \n",
    "       temp=np.matrix(np.zeros(theta.shape))\n",
    "       #number of parameters and number of theta in equation\n",
    "       parameters=int(theta.shape[1])\n",
    "       #number of try we loop it \n",
    "       cost=np.zeros(itry)\n",
    "#        print(temp,\"\\n\",parameters,\"\\n\",cost,\"\\n\")\n",
    "       for itry in range(itry):\n",
    "            #here we dete h(x) and subtraction y form it  for all data\n",
    "            cost_erorr=(x*theta.T)-y\n",
    "            for p in range(parameters):\n",
    "                #here we make equation of gradient descent  here we multiply all cost function in xi of all columns in \n",
    "                term=np.multiply(cost_erorr,x[:,p])\n",
    "                #here we get new theta form equation  and put it in temp and repeat all for number of try \n",
    "                temp[0,p]=theta[0,p]-((alpha/len(x))*(np.sum(term)))\n",
    "            theta=temp\n",
    "            #here we get value of cost function after every try and values of theta  \n",
    "            cost[itry]=computcost(x,y,theta)\n",
    "       #here we return best cost function and its values of thetas \n",
    "       return cost , theta    \n",
    "                \n",
    "                \n",
    "       "
   ]
  },
  {
   "cell_type": "code",
   "execution_count": 155,
   "id": "a7013ea5",
   "metadata": {},
   "outputs": [],
   "source": [
    "itry=5000\n",
    "cost,theta=gradient_bescent(x,y,theta,itry,.01)"
   ]
  },
  {
   "cell_type": "markdown",
   "id": "eb7a4bd7",
   "metadata": {},
   "source": [
    "# here we get best fit line for data (actaul  we get best costfunction for data)"
   ]
  },
  {
   "cell_type": "code",
   "execution_count": 156,
   "id": "0657b40a",
   "metadata": {},
   "outputs": [],
   "source": [
    "\n",
    "x=np.linspace(data[\"population\"].min(),data[\"population\"].max(),100)\n",
    "#after we get best theta0 and theta1 \n",
    "# best cost function with best theta0 and theta1 H(x)\n",
    "f=theta[0,0]+(theta[0,1]*x)"
   ]
  },
  {
   "cell_type": "code",
   "execution_count": 157,
   "id": "87bc4199",
   "metadata": {},
   "outputs": [
    {
     "data": {
      "text/plain": [
       "Text(0.5, 0, 'profit')"
      ]
     },
     "execution_count": 157,
     "metadata": {},
     "output_type": "execute_result"
    },
    {
     "data": {
      "image/png": "[encoded data removed]",
      "text/plain": [
       "<Figure size 360x360 with 1 Axes>"
      ]
     },
     "metadata": {
      "needs_background": "light"
     },
     "output_type": "display_data"
    }
   ],
   "source": [
    "#drow best fit line with best thetas and best costfunction \n",
    "fg,ax=plt.subplots(figsize=(5,5))\n",
    "ax.plot(x,f,\"r\",label=\"prediction\")\n",
    "ax.scatter(data[\"population\"],data[\"profit\"],color=\"b\",label=\"traning data\",marker=\"*\")\n",
    "ax.legend(loc=2)\n",
    "ax.set_title(\"Predicted Profit vs. Population Size\",color=\"g\")\n",
    "ax.set_ylabel(\"population\",color=\"g\")\n",
    "ax.set_xlabel(\"profit\",color=\"g\")"
   ]
  },
  {
   "cell_type": "markdown",
   "id": "5b8c08e1",
   "metadata": {},
   "source": [
    "# now we make graph cost and its number of  try "
   ]
  },
  {
   "cell_type": "code",
   "execution_count": 158,
   "id": "447f6091",
   "metadata": {},
   "outputs": [
    {
     "data": {
      "text/plain": [
       "Text(0.5, 1.0, 'number of try vs cost')"
      ]
     },
     "execution_count": 158,
     "metadata": {},
     "output_type": "execute_result"
    },
    {
     "data": {
      "image/png": "[encoded data removed]",
      "text/plain": [
       "<Figure size 360x360 with 1 Axes>"
      ]
     },
     "metadata": {
      "needs_background": "light"
     },
     "output_type": "display_data"
    }
   ],
   "source": [
    "fg,ax=plt.subplots(figsize=(5,5))\n",
    "ax.plot(np.arange(itry),cost,\"r\")\n",
    "ax.set_xlabel(\"number of tries\",color=\"r\")\n",
    "ax.set_ylabel(\"cost function\",color=\"r\")\n",
    "ax.set_title(\"number of try vs cost\",color=\"b\")\n"
   ]
  },
  {
   "cell_type": "code",
   "execution_count": null,
   "id": "16b3200e",
   "metadata": {},
   "outputs": [],
   "source": [
    "#after we see graph  of cost vs erorr function i think it 5000 it good and we get best fit line for it "
   ]
  },
  {
   "cell_type": "code",
   "execution_count": null,
   "id": "4d54e971",
   "metadata": {},
   "outputs": [],
   "source": []
  },
  {
   "cell_type": "code",
   "execution_count": null,
   "id": "af8a3d73",
   "metadata": {},
   "outputs": [],
   "source": []
  }
 ],
 "metadata": {
  "kernelspec": {
   "display_name": "Python 3",
   "language": "python",
   "name": "python3"
  },
  "language_info": {
   "codemirror_mode": {
    "name": "ipython",
    "version": 3
   },
   "file_extension": ".py",
   "mimetype": "text/x-python",
   "name": "python",
   "nbconvert_exporter": "python",
   "pygments_lexer": "ipython3",
   "version": "3.10.2"
  }
 },
 "nbformat": 4,
 "nbformat_minor": 5
}
